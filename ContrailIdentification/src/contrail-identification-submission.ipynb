{
 "cells": [
  {
   "cell_type": "markdown",
   "id": "8ff49d6a",
   "metadata": {
    "papermill": {
     "duration": 0.012277,
     "end_time": "2023-08-05T16:29:26.512258",
     "exception": false,
     "start_time": "2023-08-05T16:29:26.499981",
     "status": "completed"
    },
    "tags": []
   },
   "source": [
    "# Imports"
   ]
  },
  {
   "cell_type": "code",
   "execution_count": 1,
   "id": "cc718d1b",
   "metadata": {
    "execution": {
     "iopub.execute_input": "2023-08-05T16:29:26.537399Z",
     "iopub.status.busy": "2023-08-05T16:29:26.536977Z",
     "iopub.status.idle": "2023-08-05T16:29:26.542177Z",
     "shell.execute_reply": "2023-08-05T16:29:26.541279Z"
    },
    "papermill": {
     "duration": 0.021932,
     "end_time": "2023-08-05T16:29:26.546030",
     "exception": false,
     "start_time": "2023-08-05T16:29:26.524098",
     "status": "completed"
    },
    "tags": []
   },
   "outputs": [],
   "source": [
    "#!pip install -q segmentation_models_pytorch"
   ]
  },
  {
   "cell_type": "code",
   "execution_count": 2,
   "id": "9d855109",
   "metadata": {
    "execution": {
     "iopub.execute_input": "2023-08-05T16:29:26.570191Z",
     "iopub.status.busy": "2023-08-05T16:29:26.569936Z",
     "iopub.status.idle": "2023-08-05T16:29:26.579425Z",
     "shell.execute_reply": "2023-08-05T16:29:26.578537Z"
    },
    "papermill": {
     "duration": 0.024241,
     "end_time": "2023-08-05T16:29:26.581587",
     "exception": false,
     "start_time": "2023-08-05T16:29:26.557346",
     "status": "completed"
    },
    "tags": []
   },
   "outputs": [],
   "source": [
    "import sys\n",
    "sys.path.append(\"../input/pretrained-models-pytorch\")\n",
    "sys.path.append(\"../input/efficientnet-pytorch\")\n",
    "sys.path.append(\"/kaggle/input/timm-pretrained-resnest/resnest/\")\n",
    "sys.path.append(\"/kaggle/input/smp-github/segmentation_models.pytorch-master\")"
   ]
  },
  {
   "cell_type": "code",
   "execution_count": 3,
   "id": "95e8ad5f",
   "metadata": {
    "execution": {
     "iopub.execute_input": "2023-08-05T16:29:26.606337Z",
     "iopub.status.busy": "2023-08-05T16:29:26.606076Z",
     "iopub.status.idle": "2023-08-05T16:29:29.370070Z",
     "shell.execute_reply": "2023-08-05T16:29:29.368590Z"
    },
    "papermill": {
     "duration": 2.779484,
     "end_time": "2023-08-05T16:29:29.372829",
     "exception": false,
     "start_time": "2023-08-05T16:29:26.593345",
     "status": "completed"
    },
    "tags": []
   },
   "outputs": [],
   "source": [
    "!mkdir -p /root/.cache/torch/hub/checkpoints/\n",
    "!cp /kaggle/input/timm-pretrained-resnest/resnest/gluon_resnest26-50eb607c.pth /root/.cache/torch/hub/checkpoints/gluon_resnest26-50eb607c.pth"
   ]
  },
  {
   "cell_type": "code",
   "execution_count": 4,
   "id": "401fde8f",
   "metadata": {
    "execution": {
     "iopub.execute_input": "2023-08-05T16:29:29.399268Z",
     "iopub.status.busy": "2023-08-05T16:29:29.398625Z",
     "iopub.status.idle": "2023-08-05T16:29:37.764180Z",
     "shell.execute_reply": "2023-08-05T16:29:37.763137Z"
    },
    "papermill": {
     "duration": 8.381342,
     "end_time": "2023-08-05T16:29:37.766765",
     "exception": false,
     "start_time": "2023-08-05T16:29:29.385423",
     "status": "completed"
    },
    "tags": []
   },
   "outputs": [
    {
     "name": "stderr",
     "output_type": "stream",
     "text": [
      "/opt/conda/lib/python3.10/site-packages/scipy/__init__.py:146: UserWarning: A NumPy version >=1.16.5 and <1.23.0 is required for this version of SciPy (detected version 1.23.5\n",
      "  warnings.warn(f\"A NumPy version >={np_minversion} and <{np_maxversion}\"\n",
      "/kaggle/working/../input/pretrained-models-pytorch/pretrainedmodels/models/dpn.py:255: SyntaxWarning: \"is\" with a literal. Did you mean \"==\"?\n",
      "  if block_type is 'proj':\n",
      "/kaggle/working/../input/pretrained-models-pytorch/pretrainedmodels/models/dpn.py:258: SyntaxWarning: \"is\" with a literal. Did you mean \"==\"?\n",
      "  elif block_type is 'down':\n",
      "/kaggle/working/../input/pretrained-models-pytorch/pretrainedmodels/models/dpn.py:262: SyntaxWarning: \"is\" with a literal. Did you mean \"==\"?\n",
      "  assert block_type is 'normal'\n"
     ]
    }
   ],
   "source": [
    "import numpy as np\n",
    "import pandas as pd\n",
    "import matplotlib.pyplot as plt\n",
    "import seaborn as sns\n",
    "import os\n",
    "import yaml\n",
    "import torchvision.models as models\n",
    "import segmentation_models_pytorch as smp\n",
    "import gc\n",
    "from matplotlib import animation\n",
    "from sklearn.model_selection import KFold\n",
    "\n",
    "import torch\n",
    "import torch.nn as nn\n",
    "import torch.optim as optim\n",
    "import torch.nn.functional as F\n",
    "import torchvision\n",
    "import torchvision.transforms as transforms\n",
    "from torch import Tensor\n",
    "from torch.utils.data import TensorDataset\n",
    "from torch.utils.data import DataLoader\n",
    "from torch.utils.data import DataLoader\n",
    "from torchvision.models.detection import maskrcnn_resnet50_fpn"
   ]
  },
  {
   "cell_type": "markdown",
   "id": "d31c2bec",
   "metadata": {
    "papermill": {
     "duration": 0.011726,
     "end_time": "2023-08-05T16:29:37.791675",
     "exception": false,
     "start_time": "2023-08-05T16:29:37.779949",
     "status": "completed"
    },
    "tags": []
   },
   "source": [
    "# Config"
   ]
  },
  {
   "cell_type": "code",
   "execution_count": 5,
   "id": "3bc546f1",
   "metadata": {
    "execution": {
     "iopub.execute_input": "2023-08-05T16:29:37.817124Z",
     "iopub.status.busy": "2023-08-05T16:29:37.815583Z",
     "iopub.status.idle": "2023-08-05T16:29:37.832957Z",
     "shell.execute_reply": "2023-08-05T16:29:37.832072Z"
    },
    "papermill": {
     "duration": 0.031993,
     "end_time": "2023-08-05T16:29:37.835057",
     "exception": false,
     "start_time": "2023-08-05T16:29:37.803064",
     "status": "completed"
    },
    "tags": []
   },
   "outputs": [],
   "source": [
    "with open(\"/kaggle/input/contrailmodels/3c512px/3c512px/config.yaml\", \"r\") as file:\n",
    "    config = yaml.safe_load(file)"
   ]
  },
  {
   "cell_type": "markdown",
   "id": "3f266900",
   "metadata": {
    "papermill": {
     "duration": 0.011332,
     "end_time": "2023-08-05T16:29:37.858009",
     "exception": false,
     "start_time": "2023-08-05T16:29:37.846677",
     "status": "completed"
    },
    "tags": []
   },
   "source": [
    "# Utilites"
   ]
  },
  {
   "cell_type": "code",
   "execution_count": 6,
   "id": "d02cf154",
   "metadata": {
    "execution": {
     "iopub.execute_input": "2023-08-05T16:29:37.890995Z",
     "iopub.status.busy": "2023-08-05T16:29:37.890676Z",
     "iopub.status.idle": "2023-08-05T16:29:37.966739Z",
     "shell.execute_reply": "2023-08-05T16:29:37.965818Z"
    },
    "papermill": {
     "duration": 0.096903,
     "end_time": "2023-08-05T16:29:37.968831",
     "exception": false,
     "start_time": "2023-08-05T16:29:37.871928",
     "status": "completed"
    },
    "tags": []
   },
   "outputs": [
    {
     "data": {
      "text/plain": [
       "device(type='cuda')"
      ]
     },
     "execution_count": 6,
     "metadata": {},
     "output_type": "execute_result"
    }
   ],
   "source": [
    "device = torch.device('cuda' if torch.cuda.is_available() else 'cpu')\n",
    "device"
   ]
  },
  {
   "cell_type": "code",
   "execution_count": 7,
   "id": "d8996232",
   "metadata": {
    "execution": {
     "iopub.execute_input": "2023-08-05T16:29:37.994178Z",
     "iopub.status.busy": "2023-08-05T16:29:37.993890Z",
     "iopub.status.idle": "2023-08-05T16:29:37.998751Z",
     "shell.execute_reply": "2023-08-05T16:29:37.997797Z"
    },
    "papermill": {
     "duration": 0.019904,
     "end_time": "2023-08-05T16:29:38.000868",
     "exception": false,
     "start_time": "2023-08-05T16:29:37.980964",
     "status": "completed"
    },
    "tags": []
   },
   "outputs": [],
   "source": [
    "def get_band_images(idx: str, parrent_folder: str, band: str) -> np.array:\n",
    "    return np.load(os.path.join(config['data_dir'], parrent_folder, idx, f'band_{band}.npy'))"
   ]
  },
  {
   "cell_type": "code",
   "execution_count": 8,
   "id": "972dea05",
   "metadata": {
    "execution": {
     "iopub.execute_input": "2023-08-05T16:29:38.025378Z",
     "iopub.status.busy": "2023-08-05T16:29:38.025112Z",
     "iopub.status.idle": "2023-08-05T16:29:38.033632Z",
     "shell.execute_reply": "2023-08-05T16:29:38.032696Z"
    },
    "papermill": {
     "duration": 0.023144,
     "end_time": "2023-08-05T16:29:38.035687",
     "exception": false,
     "start_time": "2023-08-05T16:29:38.012543",
     "status": "completed"
    },
    "tags": []
   },
   "outputs": [],
   "source": [
    "_T11_BOUNDS = (243, 303)\n",
    "_CLOUD_TOP_TDIFF_BOUNDS = (-4, 5)\n",
    "_TDIFF_BOUNDS = (-4, 2)\n",
    "\n",
    "def normalize_range(data, bounds):\n",
    "    \"\"\"Maps data to the range [0, 1].\"\"\"\n",
    "    return (data - bounds[0]) / (bounds[1] - bounds[0])\n",
    "\n",
    "\n",
    "def get_ash_color_images(idx: str, parrent_folder: str, get_mask_frame_only=False, frame_num=4) -> np.array:\n",
    "    band11 = get_band_images(idx, parrent_folder, '11')\n",
    "    band14 = get_band_images(idx, parrent_folder, '14')\n",
    "    band15 = get_band_images(idx, parrent_folder, '15')\n",
    "    \n",
    "    if get_mask_frame_only or config['model']['in_channels'] == 3:\n",
    "        band11 = band11[:,:,frame_num]\n",
    "        band14 = band14[:,:,frame_num]\n",
    "        band15 = band15[:,:,frame_num]\n",
    "\n",
    "    r = normalize_range(band15 - band14, _TDIFF_BOUNDS)\n",
    "    g = normalize_range(band14 - band11, _CLOUD_TOP_TDIFF_BOUNDS)\n",
    "    b = normalize_range(band14, _T11_BOUNDS)\n",
    "    false_color = np.clip(np.stack([r, g, b], axis=2), 0, 1)\n",
    "    return false_color"
   ]
  },
  {
   "cell_type": "code",
   "execution_count": 9,
   "id": "bb589d51",
   "metadata": {
    "execution": {
     "iopub.execute_input": "2023-08-05T16:29:38.061088Z",
     "iopub.status.busy": "2023-08-05T16:29:38.060805Z",
     "iopub.status.idle": "2023-08-05T16:29:38.065953Z",
     "shell.execute_reply": "2023-08-05T16:29:38.064928Z"
    },
    "papermill": {
     "duration": 0.020941,
     "end_time": "2023-08-05T16:29:38.068667",
     "exception": false,
     "start_time": "2023-08-05T16:29:38.047726",
     "status": "completed"
    },
    "tags": []
   },
   "outputs": [],
   "source": [
    "def get_mask_image(idx: str, parrent_folder: str) -> np.array:\n",
    "    return np.load(os.path.join(config['data_dir'], parrent_folder, idx, 'human_pixel_masks.npy')) "
   ]
  },
  {
   "cell_type": "markdown",
   "id": "8fb84215",
   "metadata": {
    "papermill": {
     "duration": 0.012009,
     "end_time": "2023-08-05T16:29:38.093051",
     "exception": false,
     "start_time": "2023-08-05T16:29:38.081042",
     "status": "completed"
    },
    "tags": []
   },
   "source": [
    "# Dataset"
   ]
  },
  {
   "cell_type": "code",
   "execution_count": 10,
   "id": "8ad12f80",
   "metadata": {
    "execution": {
     "iopub.execute_input": "2023-08-05T16:29:38.120174Z",
     "iopub.status.busy": "2023-08-05T16:29:38.119854Z",
     "iopub.status.idle": "2023-08-05T16:29:38.573479Z",
     "shell.execute_reply": "2023-08-05T16:29:38.572497Z"
    },
    "papermill": {
     "duration": 0.471024,
     "end_time": "2023-08-05T16:29:38.576048",
     "exception": false,
     "start_time": "2023-08-05T16:29:38.105024",
     "status": "completed"
    },
    "tags": []
   },
   "outputs": [],
   "source": [
    "#Create a train dataframe\n",
    "df_train_main = pd.DataFrame({'idx': os.listdir(f'/kaggle/input/google-research-identify-contrails-reduce-global-warming/train'), 'data_set': 'train'})\n",
    "df_validation_main = pd.DataFrame({'idx': os.listdir(f'/kaggle/input/google-research-identify-contrails-reduce-global-warming/validation'), 'data_set': 'validation'})\n",
    "df_test_main = pd.DataFrame({'idx': os.listdir(f'/kaggle/input/google-research-identify-contrails-reduce-global-warming/test'), 'data_set': 'test'})\n",
    "if config['mix_train_v_validation']:\n",
    "    df_train_main = pd.concat([df_train_main, df_validation_main], ignore_index=True)"
   ]
  },
  {
   "cell_type": "code",
   "execution_count": 11,
   "id": "4f1e9dc0",
   "metadata": {
    "execution": {
     "iopub.execute_input": "2023-08-05T16:29:38.602902Z",
     "iopub.status.busy": "2023-08-05T16:29:38.601302Z",
     "iopub.status.idle": "2023-08-05T16:29:38.608943Z",
     "shell.execute_reply": "2023-08-05T16:29:38.608042Z"
    },
    "papermill": {
     "duration": 0.022505,
     "end_time": "2023-08-05T16:29:38.611105",
     "exception": false,
     "start_time": "2023-08-05T16:29:38.588600",
     "status": "completed"
    },
    "tags": []
   },
   "outputs": [],
   "source": [
    "def get_fold_dataframes(df_main: pd.DataFrame, fold: int, use_val_when_not_mix_train: bool = True) -> tuple[pd.DataFrame, pd.DataFrame]:\n",
    "    kf = KFold(n_splits=config['n_splits'], random_state=config['seed'], shuffle=True)\n",
    "    for i, (train_index, test_index) in enumerate(kf.split(df_main)):\n",
    "        if i == fold:\n",
    "            _df_train = df_train_main.iloc[train_index]\n",
    "            _df_test = df_train_main.iloc[test_index]\n",
    "            if use_val_when_not_mix_train and not config['mix_train_v_validation']:\n",
    "                _df_test = pd.concat([_df_test, df_validation_main], ignore_index=True)\n",
    "            return _df_train, _df_test\n",
    "    raise ValueError(f\"Invalid fold was given! Given fold:{fold}, has to be less than {config['n_splits']}! Check config!\")        "
   ]
  },
  {
   "cell_type": "code",
   "execution_count": 12,
   "id": "58cd8979",
   "metadata": {
    "execution": {
     "iopub.execute_input": "2023-08-05T16:29:38.636585Z",
     "iopub.status.busy": "2023-08-05T16:29:38.635721Z",
     "iopub.status.idle": "2023-08-05T16:29:38.643636Z",
     "shell.execute_reply": "2023-08-05T16:29:38.642712Z"
    },
    "papermill": {
     "duration": 0.022712,
     "end_time": "2023-08-05T16:29:38.645557",
     "exception": false,
     "start_time": "2023-08-05T16:29:38.622845",
     "status": "completed"
    },
    "tags": []
   },
   "outputs": [],
   "source": [
    "class ContrailsAshDatasetVal(torch.utils.data.Dataset):\n",
    "    def __init__(self, df_img_idxs: pd.DataFrame):\n",
    "        self.df_idx: pd.DataFrame = df_img_idxs\n",
    "            \n",
    "    def __len__(self):\n",
    "        return len(self.df_idx)\n",
    "    \n",
    "    def __getitem__(self, idx):\n",
    "        image_id: str = str(self.df_idx.iloc[idx]['idx'])\n",
    "        image_parrent_folder = str(self.df_idx.iloc[idx]['data_set'])\n",
    "        images = torch.tensor(np.reshape(get_ash_color_images(image_id, image_parrent_folder, get_mask_frame_only=False), (256, 256, config['model']['in_channels']))).to(torch.float32).permute(2, 0, 1)\n",
    "        mask = torch.tensor(get_mask_image(image_id, image_parrent_folder)).to(torch.float32).permute(2, 0, 1)\n",
    "        return image_id, images, mask"
   ]
  },
  {
   "cell_type": "code",
   "execution_count": 13,
   "id": "611a48ed",
   "metadata": {
    "execution": {
     "iopub.execute_input": "2023-08-05T16:29:38.669903Z",
     "iopub.status.busy": "2023-08-05T16:29:38.669645Z",
     "iopub.status.idle": "2023-08-05T16:29:38.676138Z",
     "shell.execute_reply": "2023-08-05T16:29:38.675277Z"
    },
    "papermill": {
     "duration": 0.020812,
     "end_time": "2023-08-05T16:29:38.678054",
     "exception": false,
     "start_time": "2023-08-05T16:29:38.657242",
     "status": "completed"
    },
    "tags": []
   },
   "outputs": [],
   "source": [
    "class ContrailsAshDatasetTest(torch.utils.data.Dataset):\n",
    "    def __init__(self, df_img_idxs: pd.DataFrame):\n",
    "        self.df_idx: pd.DataFrame = df_img_idxs\n",
    "            \n",
    "    def __len__(self):\n",
    "        return len(self.df_idx)\n",
    "    \n",
    "    def __getitem__(self, idx):\n",
    "        image_id: str = str(self.df_idx.iloc[idx]['idx'])\n",
    "        image_parrent_folder = str(self.df_idx.iloc[idx]['data_set'])\n",
    "        images = torch.tensor(np.reshape(get_ash_color_images(image_id, image_parrent_folder, get_mask_frame_only=False), (256, 256, config['model']['in_channels']))).to(torch.float32).permute(2, 0, 1)\n",
    "        return image_id, images"
   ]
  },
  {
   "cell_type": "markdown",
   "id": "e4103c94",
   "metadata": {
    "papermill": {
     "duration": 0.011355,
     "end_time": "2023-08-05T16:29:38.701296",
     "exception": false,
     "start_time": "2023-08-05T16:29:38.689941",
     "status": "completed"
    },
    "tags": []
   },
   "source": [
    "# Model"
   ]
  },
  {
   "cell_type": "code",
   "execution_count": 14,
   "id": "adb79f58",
   "metadata": {
    "execution": {
     "iopub.execute_input": "2023-08-05T16:29:38.725443Z",
     "iopub.status.busy": "2023-08-05T16:29:38.725183Z",
     "iopub.status.idle": "2023-08-05T16:29:38.732622Z",
     "shell.execute_reply": "2023-08-05T16:29:38.731409Z"
    },
    "papermill": {
     "duration": 0.022155,
     "end_time": "2023-08-05T16:29:38.735038",
     "exception": false,
     "start_time": "2023-08-05T16:29:38.712883",
     "status": "completed"
    },
    "tags": []
   },
   "outputs": [],
   "source": [
    "class Upsampled(nn.Module):\n",
    "    \"\"\"\n",
    "    Simple wrapper to upscale input at runtime, and automatically downscaled it\n",
    "    \"\"\"\n",
    "    def __init__(self, back_bone: nn.Module):\n",
    "        super(Upsampled, self).__init__()\n",
    "        self.up = nn.Upsample(scale_factor=2, mode='bilinear', align_corners=False)\n",
    "        self.back_bone = back_bone\n",
    "        self.down = nn.Upsample(scale_factor=0.5, mode='bilinear', align_corners=False)\n",
    "\n",
    "    def forward(self, x):\n",
    "        # Forward pass through the layers\n",
    "        x = self.up(x)\n",
    "        x = self.back_bone(x)\n",
    "        x = self.down(x)\n",
    "        return x\n",
    "    \n",
    "    def forward_no_downsample_back(self, x):\n",
    "        # Forward pass through the layers\n",
    "        x = self.up(x)\n",
    "        x = self.back_bone(x)\n",
    "        return x "
   ]
  },
  {
   "cell_type": "code",
   "execution_count": 15,
   "id": "8a996b82",
   "metadata": {
    "execution": {
     "iopub.execute_input": "2023-08-05T16:29:38.759395Z",
     "iopub.status.busy": "2023-08-05T16:29:38.759136Z",
     "iopub.status.idle": "2023-08-05T16:29:38.765151Z",
     "shell.execute_reply": "2023-08-05T16:29:38.764143Z"
    },
    "papermill": {
     "duration": 0.020415,
     "end_time": "2023-08-05T16:29:38.767141",
     "exception": false,
     "start_time": "2023-08-05T16:29:38.746726",
     "status": "completed"
    },
    "tags": []
   },
   "outputs": [],
   "source": [
    "def get_model():\n",
    "    core = smp.Unet(\n",
    "        encoder_name=config['model']['encoder_name'],\n",
    "        encoder_weights=config['model']['encoder_weights'],\n",
    "        in_channels=config['model']['in_channels'],   \n",
    "        classes=config['model']['classes'],\n",
    "        activation= None if config['model']['activation'] == 'None' else config['model']['activation']\n",
    "    )\n",
    "    if config['upsamled']:\n",
    "        model = Upsampled(core)\n",
    "    else:\n",
    "        model = core\n",
    "    model.to(device)\n",
    "    return model"
   ]
  },
  {
   "cell_type": "markdown",
   "id": "f3328225",
   "metadata": {
    "papermill": {
     "duration": 0.011459,
     "end_time": "2023-08-05T16:29:38.790382",
     "exception": false,
     "start_time": "2023-08-05T16:29:38.778923",
     "status": "completed"
    },
    "tags": []
   },
   "source": [
    "# Assembly"
   ]
  },
  {
   "cell_type": "code",
   "execution_count": 16,
   "id": "855a572c",
   "metadata": {
    "execution": {
     "iopub.execute_input": "2023-08-05T16:29:38.816008Z",
     "iopub.status.busy": "2023-08-05T16:29:38.814607Z",
     "iopub.status.idle": "2023-08-05T16:29:38.820205Z",
     "shell.execute_reply": "2023-08-05T16:29:38.819337Z"
    },
    "papermill": {
     "duration": 0.019916,
     "end_time": "2023-08-05T16:29:38.822065",
     "exception": false,
     "start_time": "2023-08-05T16:29:38.802149",
     "status": "completed"
    },
    "tags": []
   },
   "outputs": [],
   "source": [
    "from scipy.special import expit\n",
    "\n",
    "def sigmoid(x):\n",
    "    # use scipy implmention of sigmoid to avoid overflow\n",
    "    return expit(x) # return 1 / (1 + np.exp(-x))"
   ]
  },
  {
   "cell_type": "code",
   "execution_count": 18,
   "id": "bc62f44f",
   "metadata": {
    "execution": {
     "iopub.execute_input": "2023-08-05T16:29:38.876598Z",
     "iopub.status.busy": "2023-08-05T16:29:38.876325Z",
     "iopub.status.idle": "2023-08-05T16:29:38.885825Z",
     "shell.execute_reply": "2023-08-05T16:29:38.881862Z"
    },
    "papermill": {
     "duration": 0.023919,
     "end_time": "2023-08-05T16:29:38.887963",
     "exception": false,
     "start_time": "2023-08-05T16:29:38.864044",
     "status": "completed"
    },
    "tags": []
   },
   "outputs": [],
   "source": [
    "df_models = pd.DataFrame({'model': ['4.pt', '5.pt', '6.pt'],\n",
    "                          'set': ['3c512pxV3/3c512pxV3', '3c512pxV3/3c512pxV3', '3c512pxV3/3c512pxV3']})\n",
    "model_base = '/kaggle/input/contrailmodels'"
   ]
  },
  {
   "cell_type": "markdown",
   "id": "c0d3c265",
   "metadata": {
    "papermill": {
     "duration": 0.011283,
     "end_time": "2023-08-05T16:29:38.941739",
     "exception": false,
     "start_time": "2023-08-05T16:29:38.930456",
     "status": "completed"
    },
    "tags": []
   },
   "source": [
    "# Eval"
   ]
  },
  {
   "cell_type": "markdown",
   "id": "24b652b6",
   "metadata": {
    "papermill": {
     "duration": 0.011343,
     "end_time": "2023-08-05T16:29:38.964923",
     "exception": false,
     "start_time": "2023-08-05T16:29:38.953580",
     "status": "completed"
    },
    "tags": []
   },
   "source": [
    "## Find Optimal Threshold"
   ]
  },
  {
   "cell_type": "code",
   "execution_count": 20,
   "id": "5ce72c6c",
   "metadata": {
    "execution": {
     "iopub.execute_input": "2023-08-05T16:29:38.989772Z",
     "iopub.status.busy": "2023-08-05T16:29:38.989021Z",
     "iopub.status.idle": "2023-08-05T16:29:38.993368Z",
     "shell.execute_reply": "2023-08-05T16:29:38.992534Z"
    },
    "papermill": {
     "duration": 0.018775,
     "end_time": "2023-08-05T16:29:38.995217",
     "exception": false,
     "start_time": "2023-08-05T16:29:38.976442",
     "status": "completed"
    },
    "tags": []
   },
   "outputs": [],
   "source": [
    "find_optimal_threshold = True"
   ]
  },
  {
   "cell_type": "code",
   "execution_count": 21,
   "id": "af824a1d",
   "metadata": {
    "execution": {
     "iopub.execute_input": "2023-08-05T16:29:39.020004Z",
     "iopub.status.busy": "2023-08-05T16:29:39.019358Z",
     "iopub.status.idle": "2023-08-05T16:35:15.802256Z",
     "shell.execute_reply": "2023-08-05T16:35:15.800045Z"
    },
    "papermill": {
     "duration": 336.803592,
     "end_time": "2023-08-05T16:35:15.810511",
     "exception": false,
     "start_time": "2023-08-05T16:29:39.006919",
     "status": "completed"
    },
    "tags": []
   },
   "outputs": [
    {
     "name": "stdout",
     "output_type": "stream",
     "text": [
      "3c512pxV3/3c512pxV3 - 4.pt\n",
      "3c512pxV3/3c512pxV3 - 5.pt\n",
      "3c512pxV3/3c512pxV3 - 6.pt\n"
     ]
    }
   ],
   "source": [
    "if find_optimal_threshold:\n",
    "    df_validation = df_validation_main#[:256]\n",
    "\n",
    "    dataset_val = ContrailsAshDatasetVal(df_validation)\n",
    "    data_loader_val = DataLoader(dataset_val, batch_size=config['batch_size'], shuffle=False, num_workers=2, drop_last=False)\n",
    "\n",
    "    # created a map to store and accumulate model predictions\n",
    "    proba_preds = {}\n",
    "    # Initilise the map\n",
    "    for idx in df_validation['idx']:\n",
    "        proba_preds[idx] = np.zeros((256, 256), dtype=np.float16)\n",
    "\n",
    "    for i in df_models.index:\n",
    "        print(f\"{df_models.iloc[i]['set']} - {df_models.iloc[i]['model']}\")\n",
    "        # Load config for thsi model\n",
    "        with open(f\"{model_base}/{df_models.iloc[i]['set']}/config.yaml\", \"r\") as file:\n",
    "            config = yaml.safe_load(file)\n",
    "\n",
    "        # Load the model\n",
    "        model = get_model()\n",
    "        model_path = f\"{model_base}/{df_models.iloc[i]['set']}/{df_models.iloc[i]['model']}\"\n",
    "        if torch.cuda.is_available():\n",
    "            model.load_state_dict(torch.load(model_path))\n",
    "        else:\n",
    "            model.load_state_dict(torch.load(model_path, map_location=torch.device('cpu')))\n",
    "        model.eval()\n",
    "        model.to(device)\n",
    "\n",
    "        #Make predictions\n",
    "        with torch.no_grad():\n",
    "            for i, data in enumerate(data_loader_val):\n",
    "                image_ids, inputs, target = data\n",
    "                inputs = inputs.to(device)#.float()\n",
    "                target = target.to(device)#.float()\n",
    "                pred = model.forward(inputs)\n",
    "\n",
    "                pred = pred.cpu().detach().numpy()\n",
    "                pred = sigmoid(pred)\n",
    "                for j in range(len(image_ids)):\n",
    "                    proba_preds[image_ids[j]] += pred[j, 0, :, :]\n",
    "\n",
    "\n",
    "        # Clenup\n",
    "        torch.cuda.empty_cache()        \n",
    "        gc.collect()\n",
    "\n",
    "    # Devide by the number of models to return prediction back to 0..1 range\n",
    "    for idx in df_validation['idx']:\n",
    "        proba_preds[idx] = proba_preds[idx] / float(len(df_models))"
   ]
  },
  {
   "cell_type": "code",
   "execution_count": 22,
   "id": "415e2c0d",
   "metadata": {
    "execution": {
     "iopub.execute_input": "2023-08-05T16:35:15.838935Z",
     "iopub.status.busy": "2023-08-05T16:35:15.838612Z",
     "iopub.status.idle": "2023-08-05T16:35:15.845854Z",
     "shell.execute_reply": "2023-08-05T16:35:15.844835Z"
    },
    "papermill": {
     "duration": 0.024132,
     "end_time": "2023-08-05T16:35:15.848297",
     "exception": false,
     "start_time": "2023-08-05T16:35:15.824165",
     "status": "completed"
    },
    "tags": []
   },
   "outputs": [],
   "source": [
    "class DiceThresholdDataSet(torch.utils.data.Dataset):\n",
    "    def __init__(self, df_img_idxs: pd.DataFrame):\n",
    "        self.df_idx: pd.DataFrame = df_img_idxs\n",
    "            \n",
    "    def __len__(self):\n",
    "        return len(self.df_idx)\n",
    "    \n",
    "    def __getitem__(self, idx):\n",
    "        image_id: str = str(self.df_idx.iloc[idx]['idx'])\n",
    "        pred = proba_preds[image_id]\n",
    "        proba_preds[image_id] = None # very importante, after reading the assembly prediction we need to release the memory, otherwise we would not gave enought to calculcate the global dice\n",
    "        mask = torch.tensor(get_mask_image(image_id, 'validation')).to(torch.float32).permute(2, 0, 1).squeeze()\n",
    "        return pred, mask"
   ]
  },
  {
   "cell_type": "code",
   "execution_count": 23,
   "id": "4530911a",
   "metadata": {
    "execution": {
     "iopub.execute_input": "2023-08-05T16:35:15.872994Z",
     "iopub.status.busy": "2023-08-05T16:35:15.872726Z",
     "iopub.status.idle": "2023-08-05T16:35:15.879130Z",
     "shell.execute_reply": "2023-08-05T16:35:15.878268Z"
    },
    "papermill": {
     "duration": 0.02103,
     "end_time": "2023-08-05T16:35:15.881124",
     "exception": false,
     "start_time": "2023-08-05T16:35:15.860094",
     "status": "completed"
    },
    "tags": []
   },
   "outputs": [],
   "source": [
    "class Dice(nn.Module):\n",
    "    def __init__(self, use_sigmoid=True):\n",
    "        super(Dice, self).__init__()\n",
    "        self.sigmoid = nn.Sigmoid()\n",
    "        self.use_sigmoid = use_sigmoid\n",
    "\n",
    "    def forward(self, inputs, targets, smooth=1):\n",
    "        if self.use_sigmoid:\n",
    "            inputs = self.sigmoid(inputs)       \n",
    "        \n",
    "        inputs = inputs.view(-1)\n",
    "        targets = targets.view(-1)\n",
    "        \n",
    "        intersection = (inputs * targets).sum()\n",
    "        dice = (2.0 *intersection + smooth)/(inputs.sum() + targets.sum() + smooth)  \n",
    "        \n",
    "        return dice"
   ]
  },
  {
   "cell_type": "code",
   "execution_count": 24,
   "id": "d6484e42",
   "metadata": {
    "execution": {
     "iopub.execute_input": "2023-08-05T16:35:15.905530Z",
     "iopub.status.busy": "2023-08-05T16:35:15.905250Z",
     "iopub.status.idle": "2023-08-05T16:35:15.914938Z",
     "shell.execute_reply": "2023-08-05T16:35:15.914019Z"
    },
    "papermill": {
     "duration": 0.024272,
     "end_time": "2023-08-05T16:35:15.916977",
     "exception": false,
     "start_time": "2023-08-05T16:35:15.892705",
     "status": "completed"
    },
    "tags": []
   },
   "outputs": [],
   "source": [
    "class DiceThresholdTester:\n",
    "    \n",
    "    def __init__(self, data_loader: torch.utils.data.DataLoader):\n",
    "        self.model = model\n",
    "        self.data_loader = data_loader\n",
    "        self.cumulative_mask_pred = []\n",
    "        self.cumulative_mask_true = []\n",
    "        \n",
    "    def precalculate_prediction(self) -> None:\n",
    "        with torch.no_grad():\n",
    "\n",
    "            for pred, mask in self.data_loader:\n",
    "                self.cumulative_mask_pred.append(pred)\n",
    "                self.cumulative_mask_true.append(mask)\n",
    "\n",
    "            self.cumulative_mask_pred = np.concatenate(self.cumulative_mask_pred, axis=0)\n",
    "            self.cumulative_mask_true = np.concatenate(self.cumulative_mask_true, axis=0)\n",
    "\n",
    "            self.cumulative_mask_pred = torch.flatten(torch.from_numpy(self.cumulative_mask_pred))\n",
    "            self.cumulative_mask_true = torch.flatten(torch.from_numpy(self.cumulative_mask_true))\n",
    "            \n",
    "        torch.cuda.empty_cache()        \n",
    "        gc.collect()\n",
    "    \n",
    "    def test_threshold(self, threshold: float) -> float:\n",
    "        _dice = Dice(use_sigmoid=False)\n",
    "        after_threshold = np.zeros(self.cumulative_mask_pred.shape)\n",
    "        after_threshold[self.cumulative_mask_pred[:] > threshold] = 1\n",
    "        after_threshold[self.cumulative_mask_pred[:] < threshold] = 0\n",
    "        after_threshold = torch.flatten(torch.from_numpy(after_threshold))\n",
    "        return _dice(self.cumulative_mask_true, after_threshold).item()"
   ]
  },
  {
   "cell_type": "code",
   "execution_count": 25,
   "id": "21806169",
   "metadata": {
    "execution": {
     "iopub.execute_input": "2023-08-05T16:35:15.941409Z",
     "iopub.status.busy": "2023-08-05T16:35:15.941154Z",
     "iopub.status.idle": "2023-08-05T16:35:15.945340Z",
     "shell.execute_reply": "2023-08-05T16:35:15.944257Z"
    },
    "papermill": {
     "duration": 0.018784,
     "end_time": "2023-08-05T16:35:15.947451",
     "exception": false,
     "start_time": "2023-08-05T16:35:15.928667",
     "status": "completed"
    },
    "tags": []
   },
   "outputs": [],
   "source": [
    "optim_threshold = 0.25\n",
    "optim_threshold_ass = 0.25"
   ]
  },
  {
   "cell_type": "code",
   "execution_count": 26,
   "id": "32e0452e",
   "metadata": {
    "execution": {
     "iopub.execute_input": "2023-08-05T16:35:15.972303Z",
     "iopub.status.busy": "2023-08-05T16:35:15.972050Z",
     "iopub.status.idle": "2023-08-05T16:40:38.352882Z",
     "shell.execute_reply": "2023-08-05T16:40:38.351891Z"
    },
    "papermill": {
     "duration": 322.396457,
     "end_time": "2023-08-05T16:40:38.355793",
     "exception": false,
     "start_time": "2023-08-05T16:35:15.959336",
     "status": "completed"
    },
    "tags": []
   },
   "outputs": [
    {
     "name": "stdout",
     "output_type": "stream",
     "text": [
      "Best Threshold: 0.33 with dice: 0.6524522169846063\n"
     ]
    },
    {
     "data": {
      "image/png": "[encoded data removed]",
      "text/plain": [
       "<Figure size 640x480 with 1 Axes>"
      ]
     },
     "metadata": {},
     "output_type": "display_data"
    }
   ],
   "source": [
    "if find_optimal_threshold:\n",
    "    dice_dataset = DiceThresholdDataSet(df_validation)\n",
    "    dice_dataloader = DataLoader(dice_dataset, batch_size=config['batch_size'], shuffle=False, num_workers=2, drop_last=False)\n",
    "\n",
    "\n",
    "    dice_threshold_tester = DiceThresholdTester(dice_dataloader)\n",
    "    dice_threshold_tester.precalculate_prediction()\n",
    "    \n",
    "    thresholds_to_test = [round(x * 0.01, 2) for x in range(101)]\n",
    "\n",
    "    optim_threshold = 0.05\n",
    "    best_dice_score = -1\n",
    "\n",
    "    thresholds = []\n",
    "    dice_scores = []\n",
    "\n",
    "    for t in thresholds_to_test:\n",
    "        dice_score = dice_threshold_tester.test_threshold(t)\n",
    "        if dice_score > best_dice_score:\n",
    "            best_dice_score = dice_score\n",
    "            optim_threshold = t\n",
    "\n",
    "        thresholds.append(t)\n",
    "        dice_scores.append(dice_score)\n",
    "\n",
    "    print(f'Best Threshold: {optim_threshold} with dice: {best_dice_score}')\n",
    "    df_threshold_data = pd.DataFrame({'Threshold': thresholds, 'Dice Score': dice_scores})\n",
    "    \n",
    "    sns.lineplot(data=df_threshold_data, x='Threshold', y='Dice Score')\n",
    "    plt.axhline(y=best_dice_score, color='green')\n",
    "    plt.axvline(x=optim_threshold, color='green')\n",
    "    plt.text(-0.02, best_dice_score * 0.96, f'{best_dice_score:.3f}', va='center', ha='left', color='green')\n",
    "    plt.text(optim_threshold - 0.01, 0.02, f'{optim_threshold}', va='center', ha='right', color='green')\n",
    "    plt.ylim(bottom=0)\n",
    "    plt.title('Threshold vs Dice Score')\n",
    "    plt.show()"
   ]
  },
  {
   "cell_type": "code",
   "execution_count": 27,
   "id": "d2829854",
   "metadata": {
    "execution": {
     "iopub.execute_input": "2023-08-05T16:40:38.384097Z",
     "iopub.status.busy": "2023-08-05T16:40:38.383175Z",
     "iopub.status.idle": "2023-08-05T16:40:38.387836Z",
     "shell.execute_reply": "2023-08-05T16:40:38.386954Z"
    },
    "papermill": {
     "duration": 0.021335,
     "end_time": "2023-08-05T16:40:38.390064",
     "exception": false,
     "start_time": "2023-08-05T16:40:38.368729",
     "status": "completed"
    },
    "tags": []
   },
   "outputs": [],
   "source": [
    "#optim_threshold_ass = optim_threshold"
   ]
  },
  {
   "cell_type": "markdown",
   "id": "31e272cf",
   "metadata": {
    "papermill": {
     "duration": 0.012123,
     "end_time": "2023-08-05T16:40:38.414658",
     "exception": false,
     "start_time": "2023-08-05T16:40:38.402535",
     "status": "completed"
    },
    "tags": []
   },
   "source": [
    "# Preview Predictions"
   ]
  },
  {
   "cell_type": "code",
   "execution_count": 28,
   "id": "9a7f6c5b",
   "metadata": {
    "execution": {
     "iopub.execute_input": "2023-08-05T16:40:38.441470Z",
     "iopub.status.busy": "2023-08-05T16:40:38.440581Z",
     "iopub.status.idle": "2023-08-05T16:40:38.445371Z",
     "shell.execute_reply": "2023-08-05T16:40:38.444501Z"
    },
    "papermill": {
     "duration": 0.020223,
     "end_time": "2023-08-05T16:40:38.447311",
     "exception": false,
     "start_time": "2023-08-05T16:40:38.427088",
     "status": "completed"
    },
    "tags": []
   },
   "outputs": [],
   "source": [
    "preview = False"
   ]
  },
  {
   "cell_type": "code",
   "execution_count": 29,
   "id": "023c60a8",
   "metadata": {
    "execution": {
     "iopub.execute_input": "2023-08-05T16:40:38.476554Z",
     "iopub.status.busy": "2023-08-05T16:40:38.475887Z",
     "iopub.status.idle": "2023-08-05T16:40:38.491325Z",
     "shell.execute_reply": "2023-08-05T16:40:38.490208Z"
    },
    "papermill": {
     "duration": 0.033758,
     "end_time": "2023-08-05T16:40:38.493377",
     "exception": false,
     "start_time": "2023-08-05T16:40:38.459619",
     "status": "completed"
    },
    "tags": []
   },
   "outputs": [],
   "source": [
    "if preview:\n",
    "    def sigmoid(x):\n",
    "        return 1 / (1 + np.exp(-x))\n",
    "\n",
    "    batches_to_show = 4\n",
    "    model.eval()\n",
    "\n",
    "    for i, data in enumerate(data_loader_val):\n",
    "        images, mask = data\n",
    "\n",
    "        # Predict mask for this instance\n",
    "        if torch.cuda.is_available():\n",
    "            images = images.cuda()\n",
    "        predicated_mask = sigmoid(model.forward(images[:, :, :, :]).cpu().detach().numpy())\n",
    "\n",
    "        # Apply threshold\n",
    "        predicated_mask_with_threshold = np.zeros((images.shape[0], 256, 256))\n",
    "        predicated_mask_with_threshold[predicated_mask[:, 0, :, :] < optim_threshold] = 0\n",
    "        predicated_mask_with_threshold[predicated_mask[:, 0, :, :] > optim_threshold] = 1\n",
    "\n",
    "        images = images.cpu()\n",
    "\n",
    "        for img_num in range(0, images.shape[0]):\n",
    "            fig, axes = plt.subplots(nrows=1, ncols=4, figsize=(20,10))\n",
    "            axes = axes.flatten()\n",
    "\n",
    "            # Show groud trought \n",
    "            axes[0].imshow(mask[img_num, 0, :, :])\n",
    "            axes[0].axis('off')\n",
    "            axes[0].set_title('Ground Truth')\n",
    "\n",
    "            # Show ash color scheme input image\n",
    "            axes[1].imshow( np.concatenate(\n",
    "                (\n",
    "                np.expand_dims(images[img_num, 4, :, :], axis=2),\n",
    "                np.expand_dims(images[img_num, 12, :, :], axis=2),\n",
    "                np.expand_dims(images[img_num, 20, :, :], axis=2)\n",
    "            ), axis=2))\n",
    "            axes[1].axis('off')\n",
    "            axes[1].set_title('Ash color scheeme input - Frame 4')\n",
    "\n",
    "            # Show predicted mask\n",
    "            axes[2].imshow(predicated_mask[img_num, 0, :, :], vmin=0, vmax=1)\n",
    "            axes[2].axis('off')\n",
    "            axes[2].set_title('Predicted probability mask')\n",
    "\n",
    "            # Show predicted mask after threshold\n",
    "            axes[3].imshow(predicated_mask_with_threshold[img_num, :, :])\n",
    "            axes[3].axis('off')\n",
    "            axes[3].set_title('Predicted mask with threshold')\n",
    "            plt.show()\n",
    "\n",
    "        if i + 1 >= batches_to_show:\n",
    "            break\n",
    "    torch.cuda.empty_cache()        \n",
    "    gc.collect()"
   ]
  },
  {
   "cell_type": "markdown",
   "id": "c6008649",
   "metadata": {
    "papermill": {
     "duration": 0.012319,
     "end_time": "2023-08-05T16:40:38.518559",
     "exception": false,
     "start_time": "2023-08-05T16:40:38.506240",
     "status": "completed"
    },
    "tags": []
   },
   "source": [
    "# Submit"
   ]
  },
  {
   "cell_type": "code",
   "execution_count": 30,
   "id": "964d52e9",
   "metadata": {
    "execution": {
     "iopub.execute_input": "2023-08-05T16:40:38.545532Z",
     "iopub.status.busy": "2023-08-05T16:40:38.544666Z",
     "iopub.status.idle": "2023-08-05T16:40:38.552281Z",
     "shell.execute_reply": "2023-08-05T16:40:38.551363Z"
    },
    "papermill": {
     "duration": 0.023041,
     "end_time": "2023-08-05T16:40:38.554290",
     "exception": false,
     "start_time": "2023-08-05T16:40:38.531249",
     "status": "completed"
    },
    "tags": []
   },
   "outputs": [],
   "source": [
    "#source https://www.kaggle.com/code/inversion/contrails-rle-submission?scriptVersionId=128527711&cellId=4\n",
    "\n",
    "def rle_encode(x, fg_val=1):\n",
    "    \"\"\"\n",
    "    Args:\n",
    "        x:  numpy array of shape (height, width), 1 - mask, 0 - background\n",
    "    Returns: run length encoding as list\n",
    "    \"\"\"\n",
    "\n",
    "    dots = np.where(\n",
    "        x.T.flatten() == fg_val)[0]  # .T sets Fortran order down-then-right\n",
    "    run_lengths = []\n",
    "    prev = -2\n",
    "    for b in dots:\n",
    "        if b > prev + 1:\n",
    "            run_lengths.extend((b + 1, 0))\n",
    "        run_lengths[-1] += 1\n",
    "        prev = b\n",
    "    return run_lengths\n",
    "\n",
    "\n",
    "def list_to_string(x):\n",
    "    \"\"\"\n",
    "    Converts list to a string representation\n",
    "    Empty list returns '-'\n",
    "    \"\"\"\n",
    "    if x: # non-empty list\n",
    "        s = str(x).replace(\"[\", \"\").replace(\"]\", \"\").replace(\",\", \"\")\n",
    "    else:\n",
    "        s = '-'\n",
    "    return s"
   ]
  },
  {
   "cell_type": "code",
   "execution_count": 31,
   "id": "f335e9eb",
   "metadata": {
    "execution": {
     "iopub.execute_input": "2023-08-05T16:40:38.581056Z",
     "iopub.status.busy": "2023-08-05T16:40:38.580516Z",
     "iopub.status.idle": "2023-08-05T16:40:45.147199Z",
     "shell.execute_reply": "2023-08-05T16:40:45.146033Z"
    },
    "papermill": {
     "duration": 6.582619,
     "end_time": "2023-08-05T16:40:45.149854",
     "exception": false,
     "start_time": "2023-08-05T16:40:38.567235",
     "status": "completed"
    },
    "tags": []
   },
   "outputs": [
    {
     "name": "stdout",
     "output_type": "stream",
     "text": [
      "3c512pxV3/3c512pxV3 - 4.pt\n",
      "3c512pxV3/3c512pxV3 - 5.pt\n",
      "3c512pxV3/3c512pxV3 - 6.pt\n"
     ]
    }
   ],
   "source": [
    "dataset_test = ContrailsAshDatasetTest(df_test_main)\n",
    "data_loader_test = DataLoader(dataset_test, batch_size=config['batch_size'], shuffle=False, num_workers=2, drop_last=False)\n",
    "\n",
    "# created a map to store and accumulate model predictions\n",
    "proba_preds = {}\n",
    "# Initilise the map\n",
    "for idx in df_test_main['idx']:\n",
    "    proba_preds[idx] = np.zeros((256, 256), dtype=np.float16)\n",
    "\n",
    "    \n",
    "for i in df_models.index:\n",
    "    print(f\"{df_models.iloc[i]['set']} - {df_models.iloc[i]['model']}\")\n",
    "    # Load config for thsi model\n",
    "    with open(f\"{model_base}/{df_models.iloc[i]['set']}/config.yaml\", \"r\") as file:\n",
    "        config = yaml.safe_load(file)\n",
    "\n",
    "    # Load the model\n",
    "    model = get_model()\n",
    "    model_path = f\"{model_base}/{df_models.iloc[i]['set']}/{df_models.iloc[i]['model']}\"\n",
    "    if torch.cuda.is_available():\n",
    "        model.load_state_dict(torch.load(model_path))\n",
    "    else:\n",
    "        model.load_state_dict(torch.load(model_path, map_location=torch.device('cpu')))\n",
    "    model.eval()\n",
    "    model.to(device)\n",
    "\n",
    "    #Make predictions\n",
    "    with torch.no_grad():\n",
    "        for i, data in enumerate(data_loader_test):\n",
    "            image_ids, inputs = data\n",
    "            inputs = inputs.to(device)#.float()\n",
    "            pred = model.forward(inputs)\n",
    "\n",
    "            pred = pred.cpu().detach().numpy()\n",
    "            pred = sigmoid(pred)\n",
    "            for j in range(len(image_ids)):\n",
    "                proba_preds[image_ids[j]] += pred[j, 0, :, :]\n",
    "\n",
    "\n",
    "    # Clenup\n",
    "    torch.cuda.empty_cache()        \n",
    "    gc.collect()\n",
    "\n",
    "for idx in df_test_main['idx']:\n",
    "    # Devide by the number of models to return prediction back to 0..1 range\n",
    "    proba_preds[idx] = proba_preds[idx] / float(len(df_models))\n",
    "    \n",
    "    # Apply threshold\n",
    "    proba_preds[idx][proba_preds[idx] > optim_threshold_ass] = 1\n",
    "    proba_preds[idx][proba_preds[idx] < optim_threshold_ass] = 0"
   ]
  },
  {
   "cell_type": "code",
   "execution_count": 32,
   "id": "0faebc21",
   "metadata": {
    "execution": {
     "iopub.execute_input": "2023-08-05T16:40:45.178757Z",
     "iopub.status.busy": "2023-08-05T16:40:45.176951Z",
     "iopub.status.idle": "2023-08-05T16:40:45.184613Z",
     "shell.execute_reply": "2023-08-05T16:40:45.183651Z"
    },
    "papermill": {
     "duration": 0.023783,
     "end_time": "2023-08-05T16:40:45.186768",
     "exception": false,
     "start_time": "2023-08-05T16:40:45.162985",
     "status": "completed"
    },
    "tags": []
   },
   "outputs": [],
   "source": [
    "class SubmitDataSet(torch.utils.data.Dataset):\n",
    "    def __init__(self, df_img_idxs: pd.DataFrame):\n",
    "        self.df_idx: pd.DataFrame = df_img_idxs\n",
    "            \n",
    "    def __len__(self):\n",
    "        return len(self.df_idx)\n",
    "    \n",
    "    def __getitem__(self, idx):\n",
    "        image_id: str = str(self.df_idx.iloc[idx]['idx'])\n",
    "        pred = proba_preds[image_id]\n",
    "        proba_preds[image_id] = None # very importante, after reading the assembly prediction we need to release the memory\n",
    "        return image_id, pred"
   ]
  },
  {
   "cell_type": "code",
   "execution_count": 33,
   "id": "3b3671f8",
   "metadata": {
    "execution": {
     "iopub.execute_input": "2023-08-05T16:40:45.214307Z",
     "iopub.status.busy": "2023-08-05T16:40:45.213386Z",
     "iopub.status.idle": "2023-08-05T16:40:45.219064Z",
     "shell.execute_reply": "2023-08-05T16:40:45.218057Z"
    },
    "papermill": {
     "duration": 0.021714,
     "end_time": "2023-08-05T16:40:45.221307",
     "exception": false,
     "start_time": "2023-08-05T16:40:45.199593",
     "status": "completed"
    },
    "tags": []
   },
   "outputs": [],
   "source": [
    "submit_dataset = SubmitDataSet(df_test_main)\n",
    "submit_dataloader = DataLoader(submit_dataset, batch_size=config['batch_size'], shuffle=False, num_workers=2, drop_last=False)"
   ]
  },
  {
   "cell_type": "code",
   "execution_count": 34,
   "id": "40bd04ff",
   "metadata": {
    "execution": {
     "iopub.execute_input": "2023-08-05T16:40:45.248007Z",
     "iopub.status.busy": "2023-08-05T16:40:45.247722Z",
     "iopub.status.idle": "2023-08-05T16:40:45.392059Z",
     "shell.execute_reply": "2023-08-05T16:40:45.391073Z"
    },
    "papermill": {
     "duration": 0.160673,
     "end_time": "2023-08-05T16:40:45.394554",
     "exception": false,
     "start_time": "2023-08-05T16:40:45.233881",
     "status": "completed"
    },
    "tags": []
   },
   "outputs": [],
   "source": [
    "submission = pd.read_csv('/kaggle/input/google-research-identify-contrails-reduce-global-warming/sample_submission.csv', index_col='record_id')"
   ]
  },
  {
   "cell_type": "code",
   "execution_count": 35,
   "id": "6da25cca",
   "metadata": {
    "execution": {
     "iopub.execute_input": "2023-08-05T16:40:45.421463Z",
     "iopub.status.busy": "2023-08-05T16:40:45.421160Z",
     "iopub.status.idle": "2023-08-05T16:40:45.599351Z",
     "shell.execute_reply": "2023-08-05T16:40:45.598010Z"
    },
    "papermill": {
     "duration": 0.194168,
     "end_time": "2023-08-05T16:40:45.601808",
     "exception": false,
     "start_time": "2023-08-05T16:40:45.407640",
     "status": "completed"
    },
    "tags": []
   },
   "outputs": [],
   "source": [
    "for i, data in enumerate(submit_dataloader):\n",
    "    idx, pred = data\n",
    "    \n",
    "    for img_num in range(0, pred.shape[0]):\n",
    "        current_mask = pred[img_num, :, :]\n",
    "        current_image_id = idx[img_num]\n",
    "        \n",
    "        submission.loc[int(current_image_id), 'encoded_pixels'] = list_to_string(rle_encode(current_mask))"
   ]
  },
  {
   "cell_type": "code",
   "execution_count": 36,
   "id": "e61ebb8d",
   "metadata": {
    "execution": {
     "iopub.execute_input": "2023-08-05T16:40:45.631371Z",
     "iopub.status.busy": "2023-08-05T16:40:45.629789Z",
     "iopub.status.idle": "2023-08-05T16:40:45.646875Z",
     "shell.execute_reply": "2023-08-05T16:40:45.645971Z"
    },
    "papermill": {
     "duration": 0.033335,
     "end_time": "2023-08-05T16:40:45.649042",
     "exception": false,
     "start_time": "2023-08-05T16:40:45.615707",
     "status": "completed"
    },
    "tags": []
   },
   "outputs": [
    {
     "data": {
      "text/html": [
       "<div>\n",
       "<style scoped>\n",
       "    .dataframe tbody tr th:only-of-type {\n",
       "        vertical-align: middle;\n",
       "    }\n",
       "\n",
       "    .dataframe tbody tr th {\n",
       "        vertical-align: top;\n",
       "    }\n",
       "\n",
       "    .dataframe thead th {\n",
       "        text-align: right;\n",
       "    }\n",
       "</style>\n",
       "<table border=\"1\" class=\"dataframe\">\n",
       "  <thead>\n",
       "    <tr style=\"text-align: right;\">\n",
       "      <th></th>\n",
       "      <th>encoded_pixels</th>\n",
       "    </tr>\n",
       "    <tr>\n",
       "      <th>record_id</th>\n",
       "      <th></th>\n",
       "    </tr>\n",
       "  </thead>\n",
       "  <tbody>\n",
       "    <tr>\n",
       "      <th>1000834164244036115</th>\n",
       "      <td>-</td>\n",
       "    </tr>\n",
       "    <tr>\n",
       "      <th>1002653297254493116</th>\n",
       "      <td>-</td>\n",
       "    </tr>\n",
       "  </tbody>\n",
       "</table>\n",
       "</div>"
      ],
      "text/plain": [
       "                    encoded_pixels\n",
       "record_id                         \n",
       "1000834164244036115              -\n",
       "1002653297254493116              -"
      ]
     },
     "execution_count": 36,
     "metadata": {},
     "output_type": "execute_result"
    }
   ],
   "source": [
    "submission"
   ]
  },
  {
   "cell_type": "code",
   "execution_count": 37,
   "id": "c88c19af",
   "metadata": {
    "execution": {
     "iopub.execute_input": "2023-08-05T16:40:45.676020Z",
     "iopub.status.busy": "2023-08-05T16:40:45.675717Z",
     "iopub.status.idle": "2023-08-05T16:40:45.685456Z",
     "shell.execute_reply": "2023-08-05T16:40:45.684598Z"
    },
    "papermill": {
     "duration": 0.025738,
     "end_time": "2023-08-05T16:40:45.687580",
     "exception": false,
     "start_time": "2023-08-05T16:40:45.661842",
     "status": "completed"
    },
    "tags": []
   },
   "outputs": [],
   "source": [
    "submission.to_csv('submission.csv')"
   ]
  }
 ],
 "metadata": {
  "kernelspec": {
   "display_name": "Python 3",
   "language": "python",
   "name": "python3"
  },
  "language_info": {
   "codemirror_mode": {
    "name": "ipython",
    "version": 3
   },
   "file_extension": ".py",
   "mimetype": "text/x-python",
   "name": "python",
   "nbconvert_exporter": "python",
   "pygments_lexer": "ipython3",
   "version": "3.10.12"
  },
  "papermill": {
   "default_parameters": {},
   "duration": 693.091458,
   "end_time": "2023-08-05T16:40:48.976063",
   "environment_variables": {},
   "exception": null,
   "input_path": "__notebook__.ipynb",
   "output_path": "__notebook__.ipynb",
   "parameters": {},
   "start_time": "2023-08-05T16:29:15.884605",
   "version": "2.4.0"
  }
 },
 "nbformat": 4,
 "nbformat_minor": 5
}
