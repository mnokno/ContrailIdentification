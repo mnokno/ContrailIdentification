{
 "cells": [
  {
   "cell_type": "code",
   "execution_count": 1,
   "id": "366d0da3",
   "metadata": {
    "_cell_guid": "b1076dfc-b9ad-4769-8c92-a6c4dae69d19",
    "_uuid": "8f2839f25d086af736a60e9eeb907d3b93b6e0e5",
    "execution": {
     "iopub.execute_input": "2023-05-30T22:32:50.293321Z",
     "iopub.status.busy": "2023-05-30T22:32:50.292618Z",
     "iopub.status.idle": "2023-05-30T22:32:54.604487Z",
     "shell.execute_reply": "2023-05-30T22:32:54.603565Z"
    },
    "papermill": {
     "duration": 4.321382,
     "end_time": "2023-05-30T22:32:54.606883",
     "exception": false,
     "start_time": "2023-05-30T22:32:50.285501",
     "status": "completed"
    },
    "tags": []
   },
   "outputs": [],
   "source": [
    "import numpy as np\n",
    "import pandas as pd\n",
    "import matplotlib.pyplot as plt\n",
    "import seaborn as sns\n",
    "import os\n",
    "\n",
    "from matplotlib import animation\n",
    "from IPython import display\n",
    "\n",
    "import torch\n",
    "import torch.nn as nn\n",
    "import torch.optim as optim\n",
    "from torch import Tensor\n",
    "from torch.utils.data import TensorDataset\n",
    "from torch.utils.data import DataLoader\n",
    "from torch.utils.data import DataLoader"
   ]
  },
  {
   "cell_type": "code",
   "execution_count": 2,
   "id": "707fb3e3",
   "metadata": {
    "execution": {
     "iopub.execute_input": "2023-05-30T22:32:54.620203Z",
     "iopub.status.busy": "2023-05-30T22:32:54.619164Z",
     "iopub.status.idle": "2023-05-30T22:32:54.636384Z",
     "shell.execute_reply": "2023-05-30T22:32:54.635493Z"
    },
    "papermill": {
     "duration": 0.025448,
     "end_time": "2023-05-30T22:32:54.638331",
     "exception": false,
     "start_time": "2023-05-30T22:32:54.612883",
     "status": "completed"
    },
    "tags": []
   },
   "outputs": [],
   "source": [
    "class DoubleConv(nn.Module):\n",
    "    def __init__(self, in_channels, out_channels):\n",
    "        super(DoubleConv, self).__init__()\n",
    "        self.double_conv = nn.Sequential(\n",
    "            nn.Conv2d(in_channels, out_channels, kernel_size=3, padding=1),\n",
    "            nn.BatchNorm2d(out_channels),\n",
    "            nn.ReLU(inplace=True),\n",
    "            nn.Conv2d(out_channels, out_channels, kernel_size=3, padding=1),\n",
    "            nn.BatchNorm2d(out_channels),\n",
    "            nn.ReLU(inplace=True)\n",
    "        )\n",
    "\n",
    "    def forward(self, x):\n",
    "        return self.double_conv(x)\n",
    "\n",
    "\n",
    "class Down(nn.Module):\n",
    "    def __init__(self, in_channels, out_channels):\n",
    "        super(Down, self).__init__()\n",
    "        self.maxpool_conv = nn.Sequential(\n",
    "            nn.MaxPool2d(2),\n",
    "            DoubleConv(in_channels, out_channels)\n",
    "        )\n",
    "\n",
    "    def forward(self, x):\n",
    "        return self.maxpool_conv(x)\n",
    "\n",
    "\n",
    "class Up(nn.Module):\n",
    "    def __init__(self, in_channels, out_channels, bilinear=True):\n",
    "        super(Up, self).__init__()\n",
    "\n",
    "        if bilinear:\n",
    "            self.up = nn.Upsample(scale_factor=2, mode='bilinear', align_corners=True)\n",
    "        else:\n",
    "            self.up = nn.ConvTranspose2d(in_channels // 2, in_channels // 2, kernel_size=2, stride=2)\n",
    "\n",
    "        self.conv = DoubleConv(in_channels, out_channels)\n",
    "\n",
    "    def forward(self, x1, x2):\n",
    "        x1 = self.up(x1)\n",
    "\n",
    "        diffY = x2.size()[2] - x1.size()[2]\n",
    "        diffX = x2.size()[3] - x1.size()[3]\n",
    "\n",
    "        x1 = nn.functional.pad(x1, [diffX // 2, diffX - diffX // 2, diffY // 2, diffY - diffY // 2])\n",
    "        \n",
    "        x = torch.cat([x2, x1], dim=1)\n",
    "        return self.conv(x)\n",
    "\n",
    "\n",
    "class UNet(nn.Module):\n",
    "    def __init__(self):\n",
    "        super(UNet, self).__init__()\n",
    "        # Define your layers\n",
    "        self.inc = DoubleConv(24, 64)\n",
    "        self.down1 = Down(64, 128)\n",
    "        self.down2 = Down(128, 256)\n",
    "        self.down3 = Down(256, 512)\n",
    "        self.down4 = Down(512, 512)\n",
    "        self.up1 = Up(1024, 256)\n",
    "        self.up2 = Up(512, 128)\n",
    "        self.up3 = Up(256, 64)\n",
    "        self.up4 = Up(128, 64)\n",
    "        self.outc = nn.Conv2d(64, 1, kernel_size=1)\n",
    "\n",
    "    def forward(self, x):\n",
    "        # Forward pass through the layers\n",
    "        x1 = self.inc(x)\n",
    "        x2 = self.down1(x1)\n",
    "        x3 = self.down2(x2)\n",
    "        x4 = self.down3(x3)\n",
    "        x5 = self.down4(x4)\n",
    "        x = self.up1(x5, x4)\n",
    "        x = self.up2(x, x3)\n",
    "        x = self.up3(x, x2)\n",
    "        x = self.up4(x, x1)\n",
    "        x = self.outc(x)\n",
    "        return x"
   ]
  },
  {
   "cell_type": "code",
   "execution_count": 3,
   "id": "1fb1dad1",
   "metadata": {
    "execution": {
     "iopub.execute_input": "2023-05-30T22:32:54.649323Z",
     "iopub.status.busy": "2023-05-30T22:32:54.649055Z",
     "iopub.status.idle": "2023-05-30T22:32:58.456721Z",
     "shell.execute_reply": "2023-05-30T22:32:58.455647Z"
    },
    "papermill": {
     "duration": 3.815959,
     "end_time": "2023-05-30T22:32:58.459268",
     "exception": false,
     "start_time": "2023-05-30T22:32:54.643309",
     "status": "completed"
    },
    "tags": []
   },
   "outputs": [
    {
     "data": {
      "text/plain": [
       "UNet(\n",
       "  (inc): DoubleConv(\n",
       "    (double_conv): Sequential(\n",
       "      (0): Conv2d(24, 64, kernel_size=(3, 3), stride=(1, 1), padding=(1, 1))\n",
       "      (1): BatchNorm2d(64, eps=1e-05, momentum=0.1, affine=True, track_running_stats=True)\n",
       "      (2): ReLU(inplace=True)\n",
       "      (3): Conv2d(64, 64, kernel_size=(3, 3), stride=(1, 1), padding=(1, 1))\n",
       "      (4): BatchNorm2d(64, eps=1e-05, momentum=0.1, affine=True, track_running_stats=True)\n",
       "      (5): ReLU(inplace=True)\n",
       "    )\n",
       "  )\n",
       "  (down1): Down(\n",
       "    (maxpool_conv): Sequential(\n",
       "      (0): MaxPool2d(kernel_size=2, stride=2, padding=0, dilation=1, ceil_mode=False)\n",
       "      (1): DoubleConv(\n",
       "        (double_conv): Sequential(\n",
       "          (0): Conv2d(64, 128, kernel_size=(3, 3), stride=(1, 1), padding=(1, 1))\n",
       "          (1): BatchNorm2d(128, eps=1e-05, momentum=0.1, affine=True, track_running_stats=True)\n",
       "          (2): ReLU(inplace=True)\n",
       "          (3): Conv2d(128, 128, kernel_size=(3, 3), stride=(1, 1), padding=(1, 1))\n",
       "          (4): BatchNorm2d(128, eps=1e-05, momentum=0.1, affine=True, track_running_stats=True)\n",
       "          (5): ReLU(inplace=True)\n",
       "        )\n",
       "      )\n",
       "    )\n",
       "  )\n",
       "  (down2): Down(\n",
       "    (maxpool_conv): Sequential(\n",
       "      (0): MaxPool2d(kernel_size=2, stride=2, padding=0, dilation=1, ceil_mode=False)\n",
       "      (1): DoubleConv(\n",
       "        (double_conv): Sequential(\n",
       "          (0): Conv2d(128, 256, kernel_size=(3, 3), stride=(1, 1), padding=(1, 1))\n",
       "          (1): BatchNorm2d(256, eps=1e-05, momentum=0.1, affine=True, track_running_stats=True)\n",
       "          (2): ReLU(inplace=True)\n",
       "          (3): Conv2d(256, 256, kernel_size=(3, 3), stride=(1, 1), padding=(1, 1))\n",
       "          (4): BatchNorm2d(256, eps=1e-05, momentum=0.1, affine=True, track_running_stats=True)\n",
       "          (5): ReLU(inplace=True)\n",
       "        )\n",
       "      )\n",
       "    )\n",
       "  )\n",
       "  (down3): Down(\n",
       "    (maxpool_conv): Sequential(\n",
       "      (0): MaxPool2d(kernel_size=2, stride=2, padding=0, dilation=1, ceil_mode=False)\n",
       "      (1): DoubleConv(\n",
       "        (double_conv): Sequential(\n",
       "          (0): Conv2d(256, 512, kernel_size=(3, 3), stride=(1, 1), padding=(1, 1))\n",
       "          (1): BatchNorm2d(512, eps=1e-05, momentum=0.1, affine=True, track_running_stats=True)\n",
       "          (2): ReLU(inplace=True)\n",
       "          (3): Conv2d(512, 512, kernel_size=(3, 3), stride=(1, 1), padding=(1, 1))\n",
       "          (4): BatchNorm2d(512, eps=1e-05, momentum=0.1, affine=True, track_running_stats=True)\n",
       "          (5): ReLU(inplace=True)\n",
       "        )\n",
       "      )\n",
       "    )\n",
       "  )\n",
       "  (down4): Down(\n",
       "    (maxpool_conv): Sequential(\n",
       "      (0): MaxPool2d(kernel_size=2, stride=2, padding=0, dilation=1, ceil_mode=False)\n",
       "      (1): DoubleConv(\n",
       "        (double_conv): Sequential(\n",
       "          (0): Conv2d(512, 512, kernel_size=(3, 3), stride=(1, 1), padding=(1, 1))\n",
       "          (1): BatchNorm2d(512, eps=1e-05, momentum=0.1, affine=True, track_running_stats=True)\n",
       "          (2): ReLU(inplace=True)\n",
       "          (3): Conv2d(512, 512, kernel_size=(3, 3), stride=(1, 1), padding=(1, 1))\n",
       "          (4): BatchNorm2d(512, eps=1e-05, momentum=0.1, affine=True, track_running_stats=True)\n",
       "          (5): ReLU(inplace=True)\n",
       "        )\n",
       "      )\n",
       "    )\n",
       "  )\n",
       "  (up1): Up(\n",
       "    (up): Upsample(scale_factor=2.0, mode='bilinear')\n",
       "    (conv): DoubleConv(\n",
       "      (double_conv): Sequential(\n",
       "        (0): Conv2d(1024, 256, kernel_size=(3, 3), stride=(1, 1), padding=(1, 1))\n",
       "        (1): BatchNorm2d(256, eps=1e-05, momentum=0.1, affine=True, track_running_stats=True)\n",
       "        (2): ReLU(inplace=True)\n",
       "        (3): Conv2d(256, 256, kernel_size=(3, 3), stride=(1, 1), padding=(1, 1))\n",
       "        (4): BatchNorm2d(256, eps=1e-05, momentum=0.1, affine=True, track_running_stats=True)\n",
       "        (5): ReLU(inplace=True)\n",
       "      )\n",
       "    )\n",
       "  )\n",
       "  (up2): Up(\n",
       "    (up): Upsample(scale_factor=2.0, mode='bilinear')\n",
       "    (conv): DoubleConv(\n",
       "      (double_conv): Sequential(\n",
       "        (0): Conv2d(512, 128, kernel_size=(3, 3), stride=(1, 1), padding=(1, 1))\n",
       "        (1): BatchNorm2d(128, eps=1e-05, momentum=0.1, affine=True, track_running_stats=True)\n",
       "        (2): ReLU(inplace=True)\n",
       "        (3): Conv2d(128, 128, kernel_size=(3, 3), stride=(1, 1), padding=(1, 1))\n",
       "        (4): BatchNorm2d(128, eps=1e-05, momentum=0.1, affine=True, track_running_stats=True)\n",
       "        (5): ReLU(inplace=True)\n",
       "      )\n",
       "    )\n",
       "  )\n",
       "  (up3): Up(\n",
       "    (up): Upsample(scale_factor=2.0, mode='bilinear')\n",
       "    (conv): DoubleConv(\n",
       "      (double_conv): Sequential(\n",
       "        (0): Conv2d(256, 64, kernel_size=(3, 3), stride=(1, 1), padding=(1, 1))\n",
       "        (1): BatchNorm2d(64, eps=1e-05, momentum=0.1, affine=True, track_running_stats=True)\n",
       "        (2): ReLU(inplace=True)\n",
       "        (3): Conv2d(64, 64, kernel_size=(3, 3), stride=(1, 1), padding=(1, 1))\n",
       "        (4): BatchNorm2d(64, eps=1e-05, momentum=0.1, affine=True, track_running_stats=True)\n",
       "        (5): ReLU(inplace=True)\n",
       "      )\n",
       "    )\n",
       "  )\n",
       "  (up4): Up(\n",
       "    (up): Upsample(scale_factor=2.0, mode='bilinear')\n",
       "    (conv): DoubleConv(\n",
       "      (double_conv): Sequential(\n",
       "        (0): Conv2d(128, 64, kernel_size=(3, 3), stride=(1, 1), padding=(1, 1))\n",
       "        (1): BatchNorm2d(64, eps=1e-05, momentum=0.1, affine=True, track_running_stats=True)\n",
       "        (2): ReLU(inplace=True)\n",
       "        (3): Conv2d(64, 64, kernel_size=(3, 3), stride=(1, 1), padding=(1, 1))\n",
       "        (4): BatchNorm2d(64, eps=1e-05, momentum=0.1, affine=True, track_running_stats=True)\n",
       "        (5): ReLU(inplace=True)\n",
       "      )\n",
       "    )\n",
       "  )\n",
       "  (outc): Conv2d(64, 1, kernel_size=(1, 1), stride=(1, 1))\n",
       ")"
      ]
     },
     "execution_count": 3,
     "metadata": {},
     "output_type": "execute_result"
    }
   ],
   "source": [
    "device = torch.device(\"cuda\" if torch.cuda.is_available() else \"cpu\")\n",
    "device\n",
    "model = UNet()\n",
    "model.load_state_dict(torch.load('/kaggle/input/tmptmptmp/model_checkpoint_e9.pt'))\n",
    "model.eval()\n",
    "model.to(device)"
   ]
  },
  {
   "cell_type": "code",
   "execution_count": 4,
   "id": "ce2f87ce",
   "metadata": {
    "execution": {
     "iopub.execute_input": "2023-05-30T22:32:58.472231Z",
     "iopub.status.busy": "2023-05-30T22:32:58.471369Z",
     "iopub.status.idle": "2023-05-30T22:32:58.478515Z",
     "shell.execute_reply": "2023-05-30T22:32:58.477653Z"
    },
    "papermill": {
     "duration": 0.015708,
     "end_time": "2023-05-30T22:32:58.480677",
     "exception": false,
     "start_time": "2023-05-30T22:32:58.464969",
     "status": "completed"
    },
    "tags": []
   },
   "outputs": [],
   "source": [
    "# Same a the ContrailsAshDataset but does not load the mask (since its not avalble for test) and returns image_id instaed of the mask to assamble submission\n",
    "class ContrailsAshTestDataset(torch.utils.data.Dataset):\n",
    "    def __init__(self):\n",
    "        self.df_idx: pd.DataFrame = pd.DataFrame({'idx': os.listdir(f'/kaggle/input/google-research-identify-contrails-reduce-global-warming/test')})\n",
    "        self.parrent_folder: str = 'test'\n",
    "\n",
    "    def __len__(self):\n",
    "        return len(self.df_idx)\n",
    "\n",
    "    def __getitem__(self, idx):\n",
    "        image_id: int = int(self.df_idx.iloc[idx]['idx'])\n",
    "        images = torch.tensor(np.reshape(get_ash_color_images(str(image_id), self.parrent_folder, get_mask_frame_only=False), (256, 256, 24))).to(torch.float32).permute(2, 0, 1)\n",
    "        return images,  torch.tensor(image_id)"
   ]
  },
  {
   "cell_type": "code",
   "execution_count": 5,
   "id": "c3835128",
   "metadata": {
    "execution": {
     "iopub.execute_input": "2023-05-30T22:32:58.492226Z",
     "iopub.status.busy": "2023-05-30T22:32:58.491958Z",
     "iopub.status.idle": "2023-05-30T22:32:58.502127Z",
     "shell.execute_reply": "2023-05-30T22:32:58.501322Z"
    },
    "papermill": {
     "duration": 0.018297,
     "end_time": "2023-05-30T22:32:58.504157",
     "exception": false,
     "start_time": "2023-05-30T22:32:58.485860",
     "status": "completed"
    },
    "tags": []
   },
   "outputs": [],
   "source": [
    "dataset_test = ContrailsAshTestDataset()\n",
    "data_loader_test = DataLoader(dataset_test, batch_size=16, shuffle=True, num_workers=2)"
   ]
  },
  {
   "cell_type": "code",
   "execution_count": 6,
   "id": "62e599c1",
   "metadata": {
    "execution": {
     "iopub.execute_input": "2023-05-30T22:32:58.515730Z",
     "iopub.status.busy": "2023-05-30T22:32:58.515463Z",
     "iopub.status.idle": "2023-05-30T22:32:58.522696Z",
     "shell.execute_reply": "2023-05-30T22:32:58.521706Z"
    },
    "papermill": {
     "duration": 0.016059,
     "end_time": "2023-05-30T22:32:58.525316",
     "exception": false,
     "start_time": "2023-05-30T22:32:58.509257",
     "status": "completed"
    },
    "tags": []
   },
   "outputs": [],
   "source": [
    "#source https://www.kaggle.com/code/inversion/contrails-rle-submission?scriptVersionId=128527711&cellId=4\n",
    "\n",
    "def rle_encode(x, fg_val=1):\n",
    "    \"\"\"\n",
    "    Args:\n",
    "        x:  numpy array of shape (height, width), 1 - mask, 0 - background\n",
    "    Returns: run length encoding as list\n",
    "    \"\"\"\n",
    "\n",
    "    dots = np.where(\n",
    "        x.T.flatten() == fg_val)[0]  # .T sets Fortran order down-then-right\n",
    "    run_lengths = []\n",
    "    prev = -2\n",
    "    for b in dots:\n",
    "        if b > prev + 1:\n",
    "            run_lengths.extend((b + 1, 0))\n",
    "        run_lengths[-1] += 1\n",
    "        prev = b\n",
    "    return run_lengths\n",
    "\n",
    "\n",
    "def list_to_string(x):\n",
    "    \"\"\"\n",
    "    Converts list to a string representation\n",
    "    Empty list returns '-'\n",
    "    \"\"\"\n",
    "    if x: # non-empty list\n",
    "        s = str(x).replace(\"[\", \"\").replace(\"]\", \"\").replace(\",\", \"\")\n",
    "    else:\n",
    "        s = '-'\n",
    "    return s"
   ]
  },
  {
   "cell_type": "code",
   "execution_count": 7,
   "id": "99332b9f",
   "metadata": {
    "execution": {
     "iopub.execute_input": "2023-05-30T22:32:58.536442Z",
     "iopub.status.busy": "2023-05-30T22:32:58.536191Z",
     "iopub.status.idle": "2023-05-30T22:32:58.560917Z",
     "shell.execute_reply": "2023-05-30T22:32:58.559950Z"
    },
    "papermill": {
     "duration": 0.032652,
     "end_time": "2023-05-30T22:32:58.563002",
     "exception": false,
     "start_time": "2023-05-30T22:32:58.530350",
     "status": "completed"
    },
    "tags": []
   },
   "outputs": [],
   "source": [
    "submission = pd.read_csv('/kaggle/input/google-research-identify-contrails-reduce-global-warming/sample_submission.csv', index_col='record_id')"
   ]
  },
  {
   "cell_type": "code",
   "execution_count": 8,
   "id": "60095d04",
   "metadata": {
    "execution": {
     "iopub.execute_input": "2023-05-30T22:32:58.574755Z",
     "iopub.status.busy": "2023-05-30T22:32:58.574488Z",
     "iopub.status.idle": "2023-05-30T22:32:58.578413Z",
     "shell.execute_reply": "2023-05-30T22:32:58.577559Z"
    },
    "papermill": {
     "duration": 0.012355,
     "end_time": "2023-05-30T22:32:58.580578",
     "exception": false,
     "start_time": "2023-05-30T22:32:58.568223",
     "status": "completed"
    },
    "tags": []
   },
   "outputs": [],
   "source": [
    "data_dir: str = '/kaggle/input/google-research-identify-contrails-reduce-global-warming'"
   ]
  },
  {
   "cell_type": "code",
   "execution_count": 9,
   "id": "53b6710e",
   "metadata": {
    "execution": {
     "iopub.execute_input": "2023-05-30T22:32:58.592056Z",
     "iopub.status.busy": "2023-05-30T22:32:58.591767Z",
     "iopub.status.idle": "2023-05-30T22:32:58.601187Z",
     "shell.execute_reply": "2023-05-30T22:32:58.600058Z"
    },
    "papermill": {
     "duration": 0.017397,
     "end_time": "2023-05-30T22:32:58.603182",
     "exception": false,
     "start_time": "2023-05-30T22:32:58.585785",
     "status": "completed"
    },
    "tags": []
   },
   "outputs": [],
   "source": [
    "def get_band_images(idx: str, parrent_folder: str, band: str) -> np.array:\n",
    "    return np.load(os.path.join(data_dir, parrent_folder, idx, f'band_{band}.npy'))\n",
    "\n",
    "_T11_BOUNDS = (243, 303)\n",
    "_CLOUD_TOP_TDIFF_BOUNDS = (-4, 5)\n",
    "_TDIFF_BOUNDS = (-4, 2)\n",
    "\n",
    "def normalize_range(data, bounds):\n",
    "    \"\"\"Maps data to the range [0, 1].\"\"\"\n",
    "    return (data - bounds[0]) / (bounds[1] - bounds[0])\n",
    "\n",
    "\n",
    "def get_ash_color_images(idx: str, parrent_folder: str, get_mask_frame_only=False) -> np.array:\n",
    "    band11 = get_band_images(idx, parrent_folder, '11')\n",
    "    band14 = get_band_images(idx, parrent_folder, '14')\n",
    "    band15 = get_band_images(idx, parrent_folder, '15')\n",
    "    \n",
    "    if get_mask_frame_only:\n",
    "        band11 = band11[:,:,4]\n",
    "        band14 = band14[:,:,4]\n",
    "        band15 = band15[:,:,4]\n",
    "\n",
    "    r = normalize_range(band15 - band14, _TDIFF_BOUNDS)\n",
    "    g = normalize_range(band14 - band11, _CLOUD_TOP_TDIFF_BOUNDS)\n",
    "    b = normalize_range(band14, _T11_BOUNDS)\n",
    "    false_color = np.clip(np.stack([r, g, b], axis=2), 0, 1)\n",
    "    return false_color"
   ]
  },
  {
   "cell_type": "code",
   "execution_count": 10,
   "id": "93d3d871",
   "metadata": {
    "execution": {
     "iopub.execute_input": "2023-05-30T22:32:58.614703Z",
     "iopub.status.busy": "2023-05-30T22:32:58.614448Z",
     "iopub.status.idle": "2023-05-30T22:32:58.618184Z",
     "shell.execute_reply": "2023-05-30T22:32:58.617341Z"
    },
    "papermill": {
     "duration": 0.012042,
     "end_time": "2023-05-30T22:32:58.620334",
     "exception": false,
     "start_time": "2023-05-30T22:32:58.608292",
     "status": "completed"
    },
    "tags": []
   },
   "outputs": [],
   "source": [
    "optim_threshold = 0.975"
   ]
  },
  {
   "cell_type": "code",
   "execution_count": 11,
   "id": "d4b677ee",
   "metadata": {
    "execution": {
     "iopub.execute_input": "2023-05-30T22:32:58.634139Z",
     "iopub.status.busy": "2023-05-30T22:32:58.633686Z",
     "iopub.status.idle": "2023-05-30T22:32:58.638117Z",
     "shell.execute_reply": "2023-05-30T22:32:58.637229Z"
    },
    "papermill": {
     "duration": 0.014729,
     "end_time": "2023-05-30T22:32:58.640206",
     "exception": false,
     "start_time": "2023-05-30T22:32:58.625477",
     "status": "completed"
    },
    "tags": []
   },
   "outputs": [],
   "source": [
    "def sigmoid(x):\n",
    "    return 1 / (1 + np.exp(-x))"
   ]
  },
  {
   "cell_type": "code",
   "execution_count": 12,
   "id": "88ad56fe",
   "metadata": {
    "execution": {
     "iopub.execute_input": "2023-05-30T22:32:58.652144Z",
     "iopub.status.busy": "2023-05-30T22:32:58.651361Z",
     "iopub.status.idle": "2023-05-30T22:32:59.075119Z",
     "shell.execute_reply": "2023-05-30T22:32:59.073919Z"
    },
    "papermill": {
     "duration": 0.432362,
     "end_time": "2023-05-30T22:32:59.077755",
     "exception": false,
     "start_time": "2023-05-30T22:32:58.645393",
     "status": "completed"
    },
    "tags": []
   },
   "outputs": [],
   "source": [
    "for i, data in enumerate(data_loader_test):\n",
    "    break\n",
    "    images, image_id = data\n",
    "    \n",
    "    # Predict mask for this instance\n",
    "    if torch.cuda.is_available():\n",
    "        images = images.cuda()\n",
    "    predicated_mask = sigmoid(model.forward(images[:, :, :, :]).cpu().detach().numpy())\n",
    "    \n",
    "    # Apply threshold\n",
    "    predicated_mask_with_threshold = np.zeros((images.shape[0], 256, 256))\n",
    "    predicated_mask_with_threshold[predicated_mask[:, 0, :, :] < optim_threshold] = 0\n",
    "    predicated_mask_with_threshold[predicated_mask[:, 0, :, :] > optim_threshold] = 1\n",
    "    \n",
    "    for img_num in range(0, images.shape[0]):\n",
    "        current_mask = predicated_mask_with_threshold[img_num, :, :]\n",
    "        current_image_id = image_id[0].item()\n",
    "        \n",
    "        plt.imshow(current_mask)\n",
    "        plt.show()\n",
    "        submission.loc[int(current_image_id), 'encoded_pixels'] = list_to_string(rle_encode(current_mask))"
   ]
  },
  {
   "cell_type": "code",
   "execution_count": 13,
   "id": "1f570062",
   "metadata": {
    "execution": {
     "iopub.execute_input": "2023-05-30T22:32:59.090327Z",
     "iopub.status.busy": "2023-05-30T22:32:59.090001Z",
     "iopub.status.idle": "2023-05-30T22:32:59.103798Z",
     "shell.execute_reply": "2023-05-30T22:32:59.102839Z"
    },
    "papermill": {
     "duration": 0.022334,
     "end_time": "2023-05-30T22:32:59.105798",
     "exception": false,
     "start_time": "2023-05-30T22:32:59.083464",
     "status": "completed"
    },
    "tags": []
   },
   "outputs": [
    {
     "data": {
      "text/html": [
       "<div>\n",
       "<style scoped>\n",
       "    .dataframe tbody tr th:only-of-type {\n",
       "        vertical-align: middle;\n",
       "    }\n",
       "\n",
       "    .dataframe tbody tr th {\n",
       "        vertical-align: top;\n",
       "    }\n",
       "\n",
       "    .dataframe thead th {\n",
       "        text-align: right;\n",
       "    }\n",
       "</style>\n",
       "<table border=\"1\" class=\"dataframe\">\n",
       "  <thead>\n",
       "    <tr style=\"text-align: right;\">\n",
       "      <th></th>\n",
       "      <th>encoded_pixels</th>\n",
       "    </tr>\n",
       "    <tr>\n",
       "      <th>record_id</th>\n",
       "      <th></th>\n",
       "    </tr>\n",
       "  </thead>\n",
       "  <tbody>\n",
       "    <tr>\n",
       "      <th>1000834164244036115</th>\n",
       "      <td>1 3 10 5</td>\n",
       "    </tr>\n",
       "    <tr>\n",
       "      <th>1002653297254493116</th>\n",
       "      <td>-</td>\n",
       "    </tr>\n",
       "  </tbody>\n",
       "</table>\n",
       "</div>"
      ],
      "text/plain": [
       "                    encoded_pixels\n",
       "record_id                         \n",
       "1000834164244036115       1 3 10 5\n",
       "1002653297254493116              -"
      ]
     },
     "execution_count": 13,
     "metadata": {},
     "output_type": "execute_result"
    }
   ],
   "source": [
    "submission"
   ]
  },
  {
   "cell_type": "code",
   "execution_count": 14,
   "id": "9e5ca2b0",
   "metadata": {
    "execution": {
     "iopub.execute_input": "2023-05-30T22:32:59.118482Z",
     "iopub.status.busy": "2023-05-30T22:32:59.117640Z",
     "iopub.status.idle": "2023-05-30T22:32:59.124745Z",
     "shell.execute_reply": "2023-05-30T22:32:59.123721Z"
    },
    "papermill": {
     "duration": 0.015515,
     "end_time": "2023-05-30T22:32:59.126824",
     "exception": false,
     "start_time": "2023-05-30T22:32:59.111309",
     "status": "completed"
    },
    "tags": []
   },
   "outputs": [],
   "source": [
    "dataset_test = ContrailsAshTestDataset()\n",
    "data_loader_test = DataLoader(dataset_test, batch_size=1, shuffle=True, num_workers=2)"
   ]
  },
  {
   "cell_type": "code",
   "execution_count": 15,
   "id": "204553ec",
   "metadata": {
    "execution": {
     "iopub.execute_input": "2023-05-30T22:32:59.139010Z",
     "iopub.status.busy": "2023-05-30T22:32:59.138185Z",
     "iopub.status.idle": "2023-05-30T22:33:04.475968Z",
     "shell.execute_reply": "2023-05-30T22:33:04.474881Z"
    },
    "papermill": {
     "duration": 5.346847,
     "end_time": "2023-05-30T22:33:04.478919",
     "exception": false,
     "start_time": "2023-05-30T22:32:59.132072",
     "status": "completed"
    },
    "tags": []
   },
   "outputs": [
    {
     "data": {
      "image/png": "[encoded data removed]",
      "text/plain": [
       "<Figure size 640x480 with 1 Axes>"
      ]
     },
     "metadata": {},
     "output_type": "display_data"
    },
    {
     "data": {
      "image/png": "[encoded data removed]",
      "text/plain": [
       "<Figure size 640x480 with 1 Axes>"
      ]
     },
     "metadata": {},
     "output_type": "display_data"
    }
   ],
   "source": [
    "submission = pd.read_csv('/kaggle/input/google-research-identify-contrails-reduce-global-warming/sample_submission.csv', index_col='record_id')\n",
    "model.eval()\n",
    "with torch.no_grad():\n",
    "    for X, rec in data_loader_test:\n",
    "        X = X.to(device)\n",
    "        pred = sigmoid(model.forward(X).cpu().detach().numpy())[0, 0, :, :]\n",
    "        mask = np.zeros((256, 256))\n",
    "        mask[pred<optim_threshold] = 0\n",
    "        mask[pred>optim_threshold] = 1\n",
    "        \n",
    "        plt.imshow(mask)\n",
    "        plt.show()\n",
    "        submission.loc[int(rec[0]), 'encoded_pixels'] = list_to_string(rle_encode(mask))"
   ]
  },
  {
   "cell_type": "code",
   "execution_count": 16,
   "id": "807ac298",
   "metadata": {
    "execution": {
     "iopub.execute_input": "2023-05-30T22:33:04.492534Z",
     "iopub.status.busy": "2023-05-30T22:33:04.492240Z",
     "iopub.status.idle": "2023-05-30T22:33:04.501304Z",
     "shell.execute_reply": "2023-05-30T22:33:04.500163Z"
    },
    "papermill": {
     "duration": 0.019446,
     "end_time": "2023-05-30T22:33:04.504695",
     "exception": false,
     "start_time": "2023-05-30T22:33:04.485249",
     "status": "completed"
    },
    "tags": []
   },
   "outputs": [
    {
     "data": {
      "text/html": [
       "<div>\n",
       "<style scoped>\n",
       "    .dataframe tbody tr th:only-of-type {\n",
       "        vertical-align: middle;\n",
       "    }\n",
       "\n",
       "    .dataframe tbody tr th {\n",
       "        vertical-align: top;\n",
       "    }\n",
       "\n",
       "    .dataframe thead th {\n",
       "        text-align: right;\n",
       "    }\n",
       "</style>\n",
       "<table border=\"1\" class=\"dataframe\">\n",
       "  <thead>\n",
       "    <tr style=\"text-align: right;\">\n",
       "      <th></th>\n",
       "      <th>encoded_pixels</th>\n",
       "    </tr>\n",
       "    <tr>\n",
       "      <th>record_id</th>\n",
       "      <th></th>\n",
       "    </tr>\n",
       "  </thead>\n",
       "  <tbody>\n",
       "    <tr>\n",
       "      <th>1000834164244036115</th>\n",
       "      <td>41479 3 41736 4 41994 5 42252 5 42510 4</td>\n",
       "    </tr>\n",
       "    <tr>\n",
       "      <th>1002653297254493116</th>\n",
       "      <td>36225 5 36476 13 36499 3 36731 15 36754 7 3698...</td>\n",
       "    </tr>\n",
       "  </tbody>\n",
       "</table>\n",
       "</div>"
      ],
      "text/plain": [
       "                                                        encoded_pixels\n",
       "record_id                                                             \n",
       "1000834164244036115            41479 3 41736 4 41994 5 42252 5 42510 4\n",
       "1002653297254493116  36225 5 36476 13 36499 3 36731 15 36754 7 3698..."
      ]
     },
     "execution_count": 16,
     "metadata": {},
     "output_type": "execute_result"
    }
   ],
   "source": [
    "submission"
   ]
  },
  {
   "cell_type": "code",
   "execution_count": 17,
   "id": "020adc1b",
   "metadata": {
    "execution": {
     "iopub.execute_input": "2023-05-30T22:33:04.517677Z",
     "iopub.status.busy": "2023-05-30T22:33:04.517415Z",
     "iopub.status.idle": "2023-05-30T22:33:04.524472Z",
     "shell.execute_reply": "2023-05-30T22:33:04.523650Z"
    },
    "papermill": {
     "duration": 0.015864,
     "end_time": "2023-05-30T22:33:04.526435",
     "exception": false,
     "start_time": "2023-05-30T22:33:04.510571",
     "status": "completed"
    },
    "tags": []
   },
   "outputs": [],
   "source": [
    "submission.to_csv('submission.csv')"
   ]
  }
 ],
 "metadata": {
  "kernelspec": {
   "display_name": "Python 3",
   "language": "python",
   "name": "python3"
  },
  "language_info": {
   "codemirror_mode": {
    "name": "ipython",
    "version": 3
   },
   "file_extension": ".py",
   "mimetype": "text/x-python",
   "name": "python",
   "nbconvert_exporter": "python",
   "pygments_lexer": "ipython3",
   "version": "3.10.10"
  },
  "papermill": {
   "default_parameters": {},
   "duration": 27.730637,
   "end_time": "2023-05-30T22:33:07.534281",
   "environment_variables": {},
   "exception": null,
   "input_path": "__notebook__.ipynb",
   "output_path": "__notebook__.ipynb",
   "parameters": {},
   "start_time": "2023-05-30T22:32:39.803644",
   "version": "2.4.0"
  }
 },
 "nbformat": 4,
 "nbformat_minor": 5
}
